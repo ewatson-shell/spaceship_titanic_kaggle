{
 "cells": [
  {
   "cell_type": "code",
   "execution_count": 1,
   "metadata": {},
   "outputs": [],
   "source": [
    "# author Eleanor Watson\n",
    "# date 30-01-2023\n",
    "\n",
    "# Filepath\n",
    "fp = r\"C:\\\\Users\\\\Eleanor.E.Watson\\\\OneDrive - Shell\\\\Kubrick\\\\ML_work\\\\kaggle\\\\spaceship_titanic_kaggle\\\\spaceship-titanic\\\\\"\n",
    "# imports \n",
    "import pandas as pd\n",
    "import matplotlib.pyplot as plt\n",
    "import numpy as np\n",
    "\n",
    "from sklearn.linear_model import LinearRegression\n",
    "from sklearn.model_selection import train_test_split\n",
    "from sklearn.metrics import mean_squared_error\n"
   ]
  },
  {
   "cell_type": "code",
   "execution_count": 2,
   "metadata": {},
   "outputs": [],
   "source": [
    "## File read \n",
    "\n",
    "train_fp = fp + \"train.csv\"\n",
    "\n",
    "df = pd.read_csv(train_fp)\n",
    "\n",
    "\n"
   ]
  },
  {
   "cell_type": "code",
   "execution_count": 4,
   "metadata": {},
   "outputs": [
    {
     "data": {
      "text/plain": [
       "[]"
      ]
     },
     "execution_count": 4,
     "metadata": {},
     "output_type": "execute_result"
    },
    {
     "data": {
      "image/png": "[encoded data removed]",
      "text/plain": [
       "<Figure size 432x288 with 1 Axes>"
      ]
     },
     "metadata": {
      "needs_background": "light"
     },
     "output_type": "display_data"
    }
   ],
   "source": [
    "\n",
    "## Exploratory Data Analysis\n",
    "\n",
    "fig, ax = plt.subplots()\n",
    "ax.scatter(df['Age'], df['Transported'])\n",
    "ax.grid()\n",
    "ax.plot()"
   ]
  },
  {
   "cell_type": "code",
   "execution_count": null,
   "metadata": {},
   "outputs": [],
   "source": []
  }
 ],
 "metadata": {
  "kernelspec": {
   "display_name": "Python 3",
   "language": "python",
   "name": "python3"
  },
  "language_info": {
   "codemirror_mode": {
    "name": "ipython",
    "version": 3
   },
   "file_extension": ".py",
   "mimetype": "text/x-python",
   "name": "python",
   "nbconvert_exporter": "python",
   "pygments_lexer": "ipython3",
   "version": "3.9.12"
  },
  "orig_nbformat": 4,
  "vscode": {
   "interpreter": {
    "hash": "ede396baa91557b930df4c814ac4adebda606838f7f3fcfd9466a7dbebdb2276"
   }
  }
 },
 "nbformat": 4,
 "nbformat_minor": 2
}
